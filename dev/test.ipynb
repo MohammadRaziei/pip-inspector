{
 "cells": [
  {
   "cell_type": "code",
   "execution_count": 1,
   "id": "ac5d94c4",
   "metadata": {
    "vscode": {
     "languageId": "plaintext"
    }
   },
   "outputs": [
    {
     "name": "stdout",
     "output_type": "stream",
     "text": [
      "Defaulting to user installation because normal site-packages is not writeable\n",
      "Requirement already satisfied: pygixml in /home/mohammad/.local/lib/python3.10/site-packages (0.3.0)\n",
      "Requirement already satisfied: selectolax in /home/mohammad/.local/lib/python3.10/site-packages (0.4.0)\n",
      "\u001b[33mWARNING: Error parsing dependencies of distro-info: Invalid version: '1.1build1'\u001b[0m\u001b[33m\n",
      "\u001b[0m\u001b[33mWARNING: Error parsing dependencies of python-debian: Invalid version: '0.1.43ubuntu1'\u001b[0m\u001b[33m\n",
      "\u001b[0m"
     ]
    }
   ],
   "source": [
    "!pip install pygixml selectolax\n",
    "\n"
   ]
  },
  {
   "cell_type": "code",
   "execution_count": 2,
   "id": "14565845",
   "metadata": {
    "vscode": {
     "languageId": "plaintext"
    }
   },
   "outputs": [],
   "source": [
    "import sys, os\n",
    "import pygixml\n",
    "sys.path.append(os.path.abspath(\"..\"))\n",
    "from pip_inspector import utils "
   ]
  },
  {
   "cell_type": "code",
   "execution_count": 3,
   "id": "61ad3a47",
   "metadata": {
    "vscode": {
     "languageId": "plaintext"
    }
   },
   "outputs": [],
   "source": [
    "PYPI_INSPECTOR_URL = \"https://inspector.pypi.io/project/\""
   ]
  },
  {
   "cell_type": "code",
   "execution_count": null,
   "id": "500f1de2-e843-4f48-92bd-4a8f6ccd9de9",
   "metadata": {},
   "outputs": [],
   "source": []
  },
  {
   "cell_type": "code",
   "execution_count": 6,
   "id": "404ee9d4",
   "metadata": {
    "vscode": {
     "languageId": "plaintext"
    }
   },
   "outputs": [
    {
     "name": "stdout",
     "output_type": "stream",
     "text": [
      "<html>\n",
      "  <head>\n",
      "  <link rel=\"stylesheet\" type=\"text/css\" href=\"/static/style.css\">\n",
      "    <link rel=\"icon\" href=\"data:image/svg+xml,<svg xmlns=%22http://www.w3.org/2000/svg%22 viewBox=%220 0 100 100%22><text y=%22.9em%22 font-size=%2290%22>🕵️</text></svg>\">\n",
      "    <meta name=\"viewport\" content=\"width=device-width, initial-scale=1.0\">\n",
      "  </head>\n",
      "  <body>\n",
      "    <main>\n",
      "      <h1><a href=\"/\">Inspector</a></h1>\n",
      "      <form action=\"/\">\n",
      "          <input type=\"text\" name=\"project\" placeholder=\"Project name\" value=\"liburlparser\" autocomplete=\"off\">\n",
      "        <input type=\"submit\">\n",
      "      </form>\n",
      "      <hr>\n",
      "      <h2>\n",
      "        <a href=\"/project/liburlparser\">liburlparser</a>\n",
      "        (<a href=\"https://pypi.org/project/liburlparser\">View this project on PyPI</a>)\n",
      "      </h2>\n",
      "  <p>Retrieved 20 versions.</p>\n",
      "\n",
      "<table>\n",
      "<colgroup>\n",
      "  <col style=\"width: 160px\">\n",
      "  <col style=\"width: 160px\">\n",
      "  <col style=\"width: 160px\">\n",
      "</colgroup>\n",
      "<thead>\n",
      "<tr>\n",
      "  <th>Version</th>\n",
      "  <th>Upload Timestamp</th>\n",
      "  <th>Artifacts</th>\n",
      "</tr>\n",
      "</thead>\n",
      "  <tr>\n",
      "    <td><a href=\"./1.6.0\">1.6.0</a></td>\n",
      "    <td>2025-05-04T13:21:22</td>\n",
      "    <td>10</td>\n",
      "  </tr>\n",
      "  <tr>\n",
      "    <td><a href=\"./1.5.0\">1.5.0</a></td>\n",
      "    <td>2024-10-18T18:22:29</td>\n",
      "    <td>31</td>\n",
      "  </tr>\n",
      "  <tr>\n",
      "    <td><a href=\"./1.4.6\">1.4.6</a></td>\n",
      "    <td>2024-02-11T19:09:41</td>\n",
      "    <td>31</td>\n",
      "  </tr>\n",
      "  <tr>\n",
      "    <td><a href=\"./1.4.5\">1.4.5</a></td>\n",
      "    <td>2023-11-29T09:27:46</td>\n",
      "    <td>25</td>\n",
      "  </tr>\n",
      "  <tr>\n",
      "    <td><a href=\"./1.4.4\">1.4.4</a></td>\n",
      "    <td>2023-11-22T21:51:04</td>\n",
      "    <td>25</td>\n",
      "  </tr>\n",
      "  <tr>\n",
      "    <td><a href=\"./1.4.3\">1.4.3</a></td>\n",
      "    <td>2023-11-19T08:07:33</td>\n",
      "    <td>25</td>\n",
      "  </tr>\n",
      "  <tr>\n",
      "    <td><a href=\"./1.4.2\">1.4.2</a></td>\n",
      "    <td>2023-11-16T12:22:47</td>\n",
      "    <td>25</td>\n",
      "  </tr>\n",
      "  <tr>\n",
      "    <td><a href=\"./1.4.1\">1.4.1</a></td>\n",
      "    <td>2023-11-11T07:33:10</td>\n",
      "    <td>25</td>\n",
      "  </tr>\n",
      "  <tr>\n",
      "    <td><a href=\"./1.4.0\">1.4.0</a></td>\n",
      "    <td>2023-11-08T12:24:09</td>\n",
      "    <td>25</td>\n",
      "  </tr>\n",
      "  <tr>\n",
      "    <td><a href=\"./1.3.0\">1.3.0</a></td>\n",
      "    <td>2023-11-05T19:25:33</td>\n",
      "    <td>25</td>\n",
      "  </tr>\n",
      "  <tr>\n",
      "    <td><a href=\"./1.2.1\">1.2.1</a></td>\n",
      "    <td>2023-10-10T06:59:29</td>\n",
      "    <td>25</td>\n",
      "  </tr>\n",
      "  <tr>\n",
      "    <td><a href=\"./1.2.0\">1.2.0</a></td>\n",
      "    <td>2023-10-09T13:16:33</td>\n",
      "    <td>25</td>\n",
      "  </tr>\n",
      "  <tr>\n",
      "    <td><a href=\"./1.1.0\">1.1.0</a></td>\n",
      "    <td>2023-07-23T13:08:29</td>\n",
      "    <td>25</td>\n",
      "  </tr>\n",
      "  <tr>\n",
      "    <td><a href=\"./1.0.2\">1.0.2</a></td>\n",
      "    <td>2023-07-21T22:56:26</td>\n",
      "    <td>25</td>\n",
      "  </tr>\n",
      "  <tr>\n",
      "    <td><a href=\"./1.0.1\">1.0.1</a></td>\n",
      "    <td>2023-07-21T07:17:55</td>\n",
      "    <td>25</td>\n",
      "  </tr>\n",
      "  <tr>\n",
      "    <td><a href=\"./1.0.0\">1.0.0</a></td>\n",
      "    <td>2023-07-20T23:10:54</td>\n",
      "    <td>28</td>\n",
      "  </tr>\n",
      "  <tr>\n",
      "    <td><a href=\"./0.3.0\">0.3.0</a></td>\n",
      "    <td>2023-07-03T14:50:26</td>\n",
      "    <td>20</td>\n",
      "  </tr>\n",
      "  <tr>\n",
      "    <td><a href=\"./0.2.0\">0.2.0</a></td>\n",
      "    <td>2023-07-02T20:46:49</td>\n",
      "    <td>12</td>\n",
      "  </tr>\n",
      "  <tr>\n",
      "    <td><a href=\"./0.1.0\">0.1.0</a></td>\n",
      "    <td>2023-06-30T22:20:01</td>\n",
      "    <td>20</td>\n",
      "  </tr>\n",
      "  <tr>\n",
      "    <td><a href=\"./0.0.2\">0.0.2</a></td>\n",
      "    <td>2023-06-28T15:42:28</td>\n",
      "    <td>20</td>\n",
      "  </tr>\n",
      "<tbody>\n",
      "</tbody>\n",
      "\n",
      "</table>\n",
      "\n",
      "    </main>\n",
      "    <footer>\n",
      "      <small>Source: <a href=\"https://github.com/pypi/inspector\">https://github.com/pypi/inspector</a></small>\n",
      "    </footer>\n",
      "  </body>\n",
      "</html>\n"
     ]
    }
   ],
   "source": [
    "content = utils.fetch_content(PYPI_INSPECTOR_URL+\"liburlparser/\")\n",
    "print(content)"
   ]
  },
  {
   "cell_type": "code",
   "execution_count": 7,
   "id": "a18cabae-a497-4f85-bd8c-2c909a5de04e",
   "metadata": {},
   "outputs": [],
   "source": [
    "from selectolax.parser import HTMLParser\n",
    "tree = HTMLParser(content)\n"
   ]
  },
  {
   "cell_type": "code",
   "execution_count": 26,
   "id": "0cb6fd53-f437-4ca0-8e7c-d0774edad186",
   "metadata": {},
   "outputs": [
    {
     "name": "stdout",
     "output_type": "stream",
     "text": [
      "[<Node td>, <Node td>, <Node td>, <Node td>, <Node td>, <Node td>, <Node td>, <Node td>, <Node td>, <Node td>, <Node td>, <Node td>, <Node td>, <Node td>, <Node td>, <Node td>, <Node td>, <Node td>, <Node td>, <Node td>]\n"
     ]
    }
   ],
   "source": [
    "rows = tree.css('table tr')\n",
    "# print(rows)\n",
    "print([row.css('td')[0] for row in rows if row.css('td')])"
   ]
  },
  {
   "cell_type": "code",
   "execution_count": null,
   "id": "80521e08-6592-46ec-9b44-ba01de9e8d13",
   "metadata": {},
   "outputs": [],
   "source": []
  },
  {
   "cell_type": "code",
   "execution_count": null,
   "id": "5c28a09e-9722-4ff2-8f83-1aa8e2defec3",
   "metadata": {},
   "outputs": [],
   "source": []
  },
  {
   "cell_type": "code",
   "execution_count": null,
   "id": "3445be2d-8fb9-468d-a0af-fa9d509028d0",
   "metadata": {},
   "outputs": [],
   "source": [
    "print(content.replace(\"<!DOCTYPE html>\",\"\"))"
   ]
  },
  {
   "cell_type": "code",
   "execution_count": null,
   "id": "564d3678",
   "metadata": {
    "vscode": {
     "languageId": "plaintext"
    }
   },
   "outputs": [],
   "source": [
    "# pygixml.parse_string(content)"
   ]
  },
  {
   "cell_type": "code",
   "execution_count": null,
   "id": "regex_cleanup",
   "metadata": {},
   "outputs": [],
   "source": [
    "# Convert content to string and remove head and script tags with regex\n",
    "import re\n",
    "\n",
    "# Ensure content is a string\n",
    "content_str = str(content)\n",
    "content_str = re.sub(r\"\\s*<!\\s*DOCTYPE\\s+html\\s*>\\s*\",\"\", content_str, flags=re.DOTALL)\n",
    "# Remove head tag and all its contents\n",
    "content_str = re.sub(r'\\s*<\\s*head.*>.*?</\\s*head\\s*>\\s*', '', content_str, flags=re.DOTALL)\n",
    "content_str = re.sub(r'\\s*<\\s*h2.*>.*?</\\s*h2\\s*>\\s*', '', content_str, flags=re.DOTALL)\n",
    "content_str = re.sub(r'\\s*<\\s*form.*>.*?</\\s*form\\s*>\\s*', '', content_str, flags=re.DOTALL)\n",
    "content_str = re.sub(r'\\s*<\\s*colgroup.*>.*?</\\s*colgroup\\s*>\\s*', '', content_str, flags=re.DOTALL)\n",
    "# content_str = re.sub(r'\\s*<\\s*input.*?>\\s*', '', content_str, flags=re.DOTALL)\n",
    "content_str = re.sub(r'\\s*<[hb]r>\\s*', '', content_str, flags=re.DOTALL)\n",
    "# Remove all script tags and their contents\n",
    "content_str = re.sub(r'\\s*<\\s*script.*?>.*?</\\s*script\\s*>\\s*', '', content_str, flags=re.DOTALL)\n",
    "\n",
    "print(content_str)\n",
    "pygixml.parse_string(content_str)"
   ]
  },
  {
   "cell_type": "code",
   "execution_count": null,
   "id": "899a1518-e78d-422e-8e54-db1401149399",
   "metadata": {},
   "outputs": [],
   "source": [
    "html_str = \"\"\"<html><body>\n",
    "    <main>\n",
    "      <h1><a href=\"/\">Inspector</a></h1>\n",
    "      <form action=\"/\">\n",
    "          <input type=\"text\" name=\"project\" placeholder=\"Project name\" value=\"liburlparser\" autocomplete=\"off\">\n",
    "        <input type=\"submit\">\n",
    "      </form><p>Retrieved 20 versions.</p>\n",
    "\n",
    "<table>\n",
    "<colgroup>\n",
    "  <col style=\"width: 160px\">\n",
    "  <col style=\"width: 160px\">\n",
    "  <col style=\"width: 160px\">\n",
    "</colgroup>\n",
    "<thead>\n",
    "<tr>\n",
    "  <th>Version</th>\n",
    "  <th>Upload Timestamp</th>\n",
    "  <th>Artifacts</th>\n",
    "</tr>\n",
    "</thead>\n",
    "  <tr>\n",
    "    <td><a href=\"./1.6.0\">1.6.0</a></td>\n",
    "    <td>2025-05-04T13:21:22</td>\n",
    "    <td>10</td>\n",
    "  </tr>\n",
    "  <tr>\n",
    "    <td><a href=\"./1.5.0\">1.5.0</a></td>\n",
    "    <td>2024-10-18T18:22:29</td>\n",
    "    <td>31</td>\n",
    "  </tr>\n",
    "  <tr>\n",
    "    <td><a href=\"./1.4.6\">1.4.6</a></td>\n",
    "    <td>2024-02-11T19:09:41</td>\n",
    "    <td>31</td>\n",
    "  </tr>\n",
    "  <tr>\n",
    "    <td><a href=\"./1.4.5\">1.4.5</a></td>\n",
    "    <td>2023-11-29T09:27:46</td>\n",
    "    <td>25</td>\n",
    "  </tr>\n",
    "  <tr>\n",
    "    <td><a href=\"./1.4.4\">1.4.4</a></td>\n",
    "    <td>2023-11-22T21:51:04</td>\n",
    "    <td>25</td>\n",
    "  </tr>\n",
    "  <tr>\n",
    "    <td><a href=\"./1.4.3\">1.4.3</a></td>\n",
    "    <td>2023-11-19T08:07:33</td>\n",
    "    <td>25</td>\n",
    "  </tr>\n",
    "  <tr>\n",
    "    <td><a href=\"./1.4.2\">1.4.2</a></td>\n",
    "    <td>2023-11-16T12:22:47</td>\n",
    "    <td>25</td>\n",
    "  </tr>\n",
    "  <tr>\n",
    "    <td><a href=\"./1.4.1\">1.4.1</a></td>\n",
    "    <td>2023-11-11T07:33:10</td>\n",
    "    <td>25</td>\n",
    "  </tr>\n",
    "  <tr>\n",
    "    <td><a href=\"./1.4.0\">1.4.0</a></td>\n",
    "    <td>2023-11-08T12:24:09</td>\n",
    "    <td>25</td>\n",
    "  </tr>\n",
    "  <tr>\n",
    "    <td><a href=\"./1.3.0\">1.3.0</a></td>\n",
    "    <td>2023-11-05T19:25:33</td>\n",
    "    <td>25</td>\n",
    "  </tr>\n",
    "  <tr>\n",
    "    <td><a href=\"./1.2.1\">1.2.1</a></td>\n",
    "    <td>2023-10-10T06:59:29</td>\n",
    "    <td>25</td>\n",
    "  </tr>\n",
    "  <tr>\n",
    "    <td><a href=\"./1.2.0\">1.2.0</a></td>\n",
    "    <td>2023-10-09T13:16:33</td>\n",
    "    <td>25</td>\n",
    "  </tr>\n",
    "  <tr>\n",
    "    <td><a href=\"./1.1.0\">1.1.0</a></td>\n",
    "    <td>2023-07-23T13:08:29</td>\n",
    "    <td>25</td>\n",
    "  </tr>\n",
    "  <tr>\n",
    "    <td><a href=\"./1.0.2\">1.0.2</a></td>\n",
    "    <td>2023-07-21T22:56:26</td>\n",
    "    <td>25</td>\n",
    "  </tr>\n",
    "  <tr>\n",
    "    <td><a href=\"./1.0.1\">1.0.1</a></td>\n",
    "    <td>2023-07-21T07:17:55</td>\n",
    "    <td>25</td>\n",
    "  </tr>\n",
    "  <tr>\n",
    "    <td><a href=\"./1.0.0\">1.0.0</a></td>\n",
    "    <td>2023-07-20T23:10:54</td>\n",
    "    <td>28</td>\n",
    "  </tr>\n",
    "  <tr>\n",
    "    <td><a href=\"./0.3.0\">0.3.0</a></td>\n",
    "    <td>2023-07-03T14:50:26</td>\n",
    "    <td>20</td>\n",
    "  </tr>\n",
    "  <tr>\n",
    "    <td><a href=\"./0.2.0\">0.2.0</a></td>\n",
    "    <td>2023-07-02T20:46:49</td>\n",
    "    <td>12</td>\n",
    "  </tr>\n",
    "  <tr>\n",
    "    <td><a href=\"./0.1.0\">0.1.0</a></td>\n",
    "    <td>2023-06-30T22:20:01</td>\n",
    "    <td>20</td>\n",
    "  </tr>\n",
    "  <tr>\n",
    "    <td><a href=\"./0.0.2\">0.0.2</a></td>\n",
    "    <td>2023-06-28T15:42:28</td>\n",
    "    <td>20</td>\n",
    "  </tr>\n",
    "<tbody>\n",
    "</tbody>\n",
    "\n",
    "</table>\n",
    "\n",
    "    </main>\n",
    "    <footer>\n",
    "      <small>Source: <a href=\"https://github.com/pypi/inspector\">https://github.com/pypi/inspector</a></small>\n",
    "    </footer>\n",
    "  </body>\n",
    "</html>\"\"\""
   ]
  },
  {
   "cell_type": "code",
   "execution_count": null,
   "id": "f616a1c7-71c5-45d7-8975-08abb088a8da",
   "metadata": {},
   "outputs": [],
   "source": [
    "pygixml.parse_string(html_str)"
   ]
  },
  {
   "cell_type": "code",
   "execution_count": null,
   "id": "60dead71-de79-4701-b8f7-8cbed8749ddb",
   "metadata": {},
   "outputs": [],
   "source": []
  },
  {
   "cell_type": "code",
   "execution_count": null,
   "id": "52ae0682-98ca-4d26-8c3d-d4e51d87618f",
   "metadata": {},
   "outputs": [],
   "source": []
  },
  {
   "cell_type": "code",
   "execution_count": null,
   "id": "de5228bf-f41d-4d1a-bd89-6fd1b26feb00",
   "metadata": {},
   "outputs": [],
   "source": []
  },
  {
   "cell_type": "code",
   "execution_count": null,
   "id": "3afd1929-29ef-4019-a4ad-278993b49423",
   "metadata": {},
   "outputs": [],
   "source": []
  },
  {
   "cell_type": "code",
   "execution_count": null,
   "id": "878ceb0d-0f97-49a8-ad08-66e3f924e803",
   "metadata": {},
   "outputs": [],
   "source": []
  },
  {
   "cell_type": "code",
   "execution_count": null,
   "id": "bd033b95-a383-488f-b593-6d4fb0bd6bf5",
   "metadata": {},
   "outputs": [],
   "source": []
  },
  {
   "cell_type": "code",
   "execution_count": null,
   "id": "73abb665-e554-4319-84e6-86cbe0f4bce8",
   "metadata": {},
   "outputs": [],
   "source": []
  }
 ],
 "metadata": {
  "kernelspec": {
   "display_name": "Python 3 (ipykernel)",
   "language": "python",
   "name": "python3"
  },
  "language_info": {
   "codemirror_mode": {
    "name": "ipython",
    "version": 3
   },
   "file_extension": ".py",
   "mimetype": "text/x-python",
   "name": "python",
   "nbconvert_exporter": "python",
   "pygments_lexer": "ipython3",
   "version": "3.10.12"
  }
 },
 "nbformat": 4,
 "nbformat_minor": 5
}
